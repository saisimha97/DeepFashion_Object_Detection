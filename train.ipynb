{
 "cells": [
  {
   "cell_type": "markdown",
   "source": [
    "# # Training script for DETR on DeepFashion2 dataset"
   ],
   "metadata": {}
  },
  {
   "cell_type": "code",
   "execution_count": null,
   "source": [
    "# library requiremetns\n",
    "\n",
    "import torch, torchvision\n",
    "print(torch.__version__, torch.cuda.is_available())\n",
    "\n",
    "torch.set_grad_enabled(False);"
   ],
   "outputs": [],
   "metadata": {}
  },
  {
   "cell_type": "code",
   "execution_count": null,
   "source": [
    "\n",
    "# adjust the number of epochs and give the dataset path at coco_path\n",
    "\n",
    "# this will save the models in detr/outputs directory\n",
    "\n",
    "!cd detr/\n",
    "\n",
    "# Get pretrained weights which is trained on COCO dataset\n",
    "checkpoint = torch.hub.load_state_dict_from_url(\n",
    "            url='https://dl.fbaipublicfiles.com/detr/detr-r50-e632da11.pth',\n",
    "            map_location='cpu',\n",
    "            check_hash=True)\n",
    "\n",
    "# Remove class weights\n",
    "del checkpoint[\"model\"][\"class_embed.weight\"]\n",
    "del checkpoint[\"model\"][\"class_embed.bias\"]\n",
    "\n",
    "# Save\n",
    "torch.save(checkpoint,\n",
    "           'detr-r50_no-class-head.pth')\n",
    "\n",
    "\n",
    "# adjust the number of epochs\n",
    "# give the dataset path at coco_path\n",
    "# save the models in detr/outputs directory\n",
    "\n",
    "!python main.py \\\n",
    "  --dataset_file \"custom\" \\\n",
    "  --coco_path \"/content/dataset_full/\" \\\n",
    "  --output_dir \"outputs\" \\\n",
    "  --resume \"detr-r50_no-class-head.pth\" \\\n",
    "  --num_classes 13 \\\n",
    "  --epochs 40"
   ],
   "outputs": [],
   "metadata": {}
  }
 ],
 "metadata": {
  "orig_nbformat": 4,
  "language_info": {
   "name": "python"
  }
 },
 "nbformat": 4,
 "nbformat_minor": 2
}